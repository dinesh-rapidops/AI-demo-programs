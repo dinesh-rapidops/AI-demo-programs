{
 "cells": [
  {
   "cell_type": "code",
   "execution_count": 3,
   "metadata": {},
   "outputs": [
    {
     "name": "stdout",
     "output_type": "stream",
     "text": [
      "Enter name:agd\n",
      "agd\n",
      "How old are you? 12\n",
      "12\n",
      "you wil turn 100 in 88\n"
     ]
    }
   ],
   "source": [
    "name = input('Enter name:')\n",
    "print(name);\n",
    "\n",
    "age = input(\"How old are you? \")\n",
    "\n",
    "age = int(age)\n",
    "print(age)\n",
    "\n",
    "print(f\"you wil turn 100 in {100 - age}\")"
   ]
  },
  {
   "cell_type": "code",
   "execution_count": 15,
   "metadata": {},
   "outputs": [
    {
     "name": "stdout",
     "output_type": "stream",
     "text": [
      "Enter a number.12\n",
      "your number is even\n"
     ]
    }
   ],
   "source": [
    "number = input('Enter a number.')\n",
    "number = int(number)\n",
    "isEvent = number % 2\n",
    "if isEvent == 0:\n",
    "    print(f\"your number is even\")\n",
    "else:\n",
    "    print(f\"your number is odd\")"
   ]
  },
  {
   "cell_type": "code",
   "execution_count": null,
   "metadata": {},
   "outputs": [],
   "source": []
  },
  {
   "cell_type": "code",
   "execution_count": null,
   "metadata": {},
   "outputs": [],
   "source": []
  }
 ],
 "metadata": {
  "kernelspec": {
   "display_name": "Python 3",
   "language": "python",
   "name": "python3"
  },
  "language_info": {
   "codemirror_mode": {
    "name": "ipython",
    "version": 3
   },
   "file_extension": ".py",
   "mimetype": "text/x-python",
   "name": "python",
   "nbconvert_exporter": "python",
   "pygments_lexer": "ipython3",
   "version": "3.7.3"
  }
 },
 "nbformat": 4,
 "nbformat_minor": 2
}

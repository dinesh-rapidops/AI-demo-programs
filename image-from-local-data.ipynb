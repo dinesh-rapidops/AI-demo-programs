{
 "cells": [
  {
   "cell_type": "code",
   "execution_count": 29,
   "metadata": {},
   "outputs": [],
   "source": [
    "import sys\n",
    "sys.path.insert(0, '..')\n",
    "import mxnet as mx\n",
    "%matplotlib inline\n",
    "from matplotlib.pylab import imshow\n",
    "import numpy as np\n",
    "from matplotlib import pyplot as plt\n",
    "import matplotlib.ticker as ticker\n",
    "from mxnet.gluon import data as gdata\n",
    "import sys\n",
    "import time\n",
    "from mxnet import gluon, init, autograd\n",
    "from mxnet.gluon import loss as gloss, nn\n",
    "from gluoncv.utils import viz"
   ]
  },
  {
   "cell_type": "code",
   "execution_count": 30,
   "metadata": {},
   "outputs": [],
   "source": [
    "# train_dataset = mx.gluon.data.vision.ImageFolderDataset(\"/Users/dinesh/python-test/flower_photos/train\", transform=lambda data, label: (data.astype(np.float32)/255, label))\n",
    "# test_dataset = mx.gluon.data.vision.ImageFolderDataset(\"/Users/dinesh/python-test/flower_photos/test\", transform=lambda data, label: (data.astype(np.float32)/255, label))\n",
    "train_dataset = mx.gluon.data.vision.ImageFolderDataset(\"/Users/dinesh/python-test/flower_photos/train\", transform=lambda data, label: (data.astype(np.float32)/255, label))\n",
    "test_dataset = mx.gluon.data.vision.ImageFolderDataset(\"/Users/dinesh/python-test/flower_photos/test\", transform=lambda data, label: (data.astype(np.float32)/255, label))\n",
    "# train_dataset = mx.gluon.data.vision.ImageFolderDataset(\"/Users/dinesh/python-test/flower_photos/train\", transform=lambda data, label: (data.astype(np.float32)/255, label))\n",
    "# test_dataset = mx.gluon.data.vision.ImageFolderDataset(\"/Users/dinesh/python-test/flower_photos/test\", transform=lambda data, label: (data.astype(np.float32)/255, label))"
   ]
  },
  {
   "cell_type": "code",
   "execution_count": 31,
   "metadata": {},
   "outputs": [
    {
     "name": "stdout",
     "output_type": "stream",
     "text": [
      "3309\n",
      "361\n"
     ]
    },
    {
     "data": {
      "image/png": "[encoded data removed]",
      "text/plain": [
       "<Figure size 432x288 with 1 Axes>"
      ]
     },
     "metadata": {
      "needs_background": "light"
     },
     "output_type": "display_data"
    }
   ],
   "source": [
    "print(len(train_dataset))\n",
    "sample_idx = 1000\n",
    "sample = train_dataset[sample_idx]\n",
    "viz.plot_image(sample[0])\n",
    "print(len(test_dataset))"
   ]
  },
  {
   "cell_type": "code",
   "execution_count": 32,
   "metadata": {},
   "outputs": [],
   "source": [
    "batch_size = 256\n",
    "transformer = gdata.vision.transforms.Compose([gdata.vision.transforms.Resize(300), gdata.vision.transforms.CenterCrop(256),gdata.vision.transforms.ToTensor()])\n",
    "if sys.platform.startswith('win'):\n",
    "   # 0 means no additional processes are needed to speed up the reading of\n",
    "   # data\n",
    "   num_workers = 0\n",
    "else:\n",
    "   num_workers = 4\n",
    "\n",
    "train_iter = gdata.DataLoader( train_dataset.transform_first(transformer),\n",
    "   batch_size, shuffle=True,\n",
    "   num_workers=num_workers)\n",
    "test_iter = gdata.DataLoader( test_dataset.transform_first(transformer),\n",
    "   batch_size, shuffle=False,\n",
    "   num_workers=num_workers)"
   ]
  },
  {
   "cell_type": "code",
   "execution_count": 33,
   "metadata": {},
   "outputs": [],
   "source": [
    "#Initialize the Model\n",
    "def init(net, optimizer='sgd', learning_rate=0.1, weight_decay=1e-6, ctx=mx.cpu()):\n",
    "   net.collect_params().initialize(mx.init.Xavier(magnitude=2.24), ctx=ctx)\n",
    "   trainer = gluon.Trainer(net.collect_params(),\n",
    "                           optimizer,\n",
    "                           {'learning_rate': learning_rate, 'wd': weight_decay})\n",
    "   return trainer"
   ]
  },
  {
   "cell_type": "code",
   "execution_count": 34,
   "metadata": {},
   "outputs": [],
   "source": [
    "# Computing Accuracy\n",
    "def accuracy(data_iterator, net,ctx=mx.cpu()):\n",
    "   acc = mx.metric.Accuracy()\n",
    "   for (data, label) in data_iterator:\n",
    "       data = data.as_in_context(ctx)\n",
    "       label = label.as_in_context(ctx)\n",
    "       output = net(data)\n",
    "       predictions = mx.nd.argmax(output, axis=1)\n",
    "       acc.update(preds=predictions, labels=label)\n",
    "   return acc.get()[1]"
   ]
  },
  {
   "cell_type": "code",
   "execution_count": 35,
   "metadata": {},
   "outputs": [],
   "source": [
    "#Training the Model\n",
    "def train(net, trainer, train_data, validation_data, epochs, ctx=mx.cpu()):\n",
    "   training_accuracies = []\n",
    "   validation_accuracies = []\n",
    "   softmax_cross_entropy = gluon.loss.SoftmaxCrossEntropyLoss()\n",
    "   for e in range(epochs):\n",
    "       tic = time.time()\n",
    "       for (data, label) in train_data:\n",
    "           data  = data.as_in_context(ctx)\n",
    "           label = label.as_in_context(ctx)\n",
    "           with autograd.record():\n",
    "               output = net(data)\n",
    "               loss = softmax_cross_entropy(output, label)\n",
    "               loss.backward()\n",
    "           trainer.step(data.shape[0])\n",
    "       toc = time.time()\n",
    "       train_accuracy = accuracy(train_data, net)\n",
    "       training_accuracies.append(train_accuracy)\n",
    "       validation_accuracy = accuracy(validation_data, net)\n",
    "       validation_accuracies.append(validation_accuracy)\n",
    "       print(\"Epoch#%d Time=%.2f Training=%.4f Validation=%.4f Diff=%.4f\"\n",
    "             % (e, toc-tic, train_accuracy, validation_accuracy, train_accuracy-validation_accuracy))\n",
    "   return training_accuracies, validation_accuracies"
   ]
  },
  {
   "cell_type": "code",
   "execution_count": 36,
   "metadata": {},
   "outputs": [],
   "source": [
    "#Plotting\n",
    "def plot_accuracies(training_accuracies, validation_accuracies):\n",
    "   epochs = len(training_accuracies)\n",
    "   plt.clf()\n",
    "   fig, ax = plt.subplots()\n",
    "   plt.xlabel('Epochs')\n",
    "   plt.ylabel('Accuracy')\n",
    "   train_plot, = ax.plot(range(epochs), training_accuracies, label=\"Training accuracy\")\n",
    "   validation_plot, = ax.plot(range(epochs), validation_accuracies, label=\"Validation accuracy\")\n",
    "   plt.legend(handles=[train_plot,validation_plot])\n",
    "   plt.xticks(np.arange(0, epochs, 5))\n",
    "   ax.yaxis.set_major_formatter(ticker.FormatStrFormatter('%0.4f'))\n",
    "   plt.show()"
   ]
  },
  {
   "cell_type": "code",
   "execution_count": null,
   "metadata": {},
   "outputs": [
    {
     "name": "stdout",
     "output_type": "stream",
     "text": [
      "Sequential(\n",
      "  (0): Dense(None -> 10, linear)\n",
      ")\n"
     ]
    }
   ],
   "source": [
    "net = nn.Sequential()\n",
    "net.add(nn.Dense(10))\n",
    "trainer = init(net)\n",
    "print(net)\n",
    "training_accuracies, validation_accuracies = train(net, trainer, train_iter, test_iter, 50)\n",
    "plot_accuracies(training_accuracies, validation_accuracies)"
   ]
  },
  {
   "cell_type": "code",
   "execution_count": null,
   "metadata": {},
   "outputs": [],
   "source": []
  }
 ],
 "metadata": {
  "kernelspec": {
   "display_name": "Python 3",
   "language": "python",
   "name": "python3"
  },
  "language_info": {
   "codemirror_mode": {
    "name": "ipython",
    "version": 3
   },
   "file_extension": ".py",
   "mimetype": "text/x-python",
   "name": "python",
   "nbconvert_exporter": "python",
   "pygments_lexer": "ipython3",
   "version": "3.7.3"
  }
 },
 "nbformat": 4,
 "nbformat_minor": 2
}

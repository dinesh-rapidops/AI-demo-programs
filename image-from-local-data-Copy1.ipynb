{
 "cells": [
  {
   "cell_type": "code",
   "execution_count": 1,
   "metadata": {},
   "outputs": [],
   "source": [
    "import sys\n",
    "sys.path.insert(0, '..')\n",
    "%matplotlib inline\n",
    "from IPython import display\n",
    "from matplotlib import pyplot as plt\n",
    "import matplotlib.ticker as ticker\n",
    "from mxnet.gluon import data as gdata\n",
    "import sys\n",
    "import time\n",
    "from mxnet import gluon, init, autograd\n",
    "from mxnet.gluon import loss as gloss, nn\n",
    "import mxnet as mx\n",
    "import numpy as np\n",
    "import mxnet.ndarray as nd\n",
    "from mxnet.gluon.data.vision import transforms"
   ]
  },
  {
   "cell_type": "code",
   "execution_count": 2,
   "metadata": {},
   "outputs": [
    {
     "data": {
      "text/plain": [
       "(60000, 10000)"
      ]
     },
     "execution_count": 2,
     "metadata": {},
     "output_type": "execute_result"
    }
   ],
   "source": [
    "mnist_train = gdata.vision.MNIST(train=True)\n",
    "mnist_test = gdata.vision.MNIST(train=False)\n",
    "len(mnist_train), len(mnist_test)"
   ]
  },
  {
   "cell_type": "code",
   "execution_count": 3,
   "metadata": {},
   "outputs": [
    {
     "data": {
      "text/plain": [
       "((28, 28, 1), numpy.uint8)"
      ]
     },
     "execution_count": 3,
     "metadata": {},
     "output_type": "execute_result"
    }
   ],
   "source": [
    "feature, label = mnist_train[0]\n",
    "feature.shape, feature.dtype"
   ]
  },
  {
   "cell_type": "code",
   "execution_count": 4,
   "metadata": {},
   "outputs": [],
   "source": [
    "label, type(label), label.dtype\n",
    "def get_mnist_labels(labels):\n",
    "   text_labels = ['zero', 'one', 'two', 'three', 'four',\n",
    "   'five', 'six', 'seven', 'eight', 'nine']\n",
    "   return [text_labels[int(i)] for i in labels]"
   ]
  },
  {
   "cell_type": "code",
   "execution_count": 5,
   "metadata": {},
   "outputs": [],
   "source": [
    "def show_mnist(images, labels):\n",
    "   display.set_matplotlib_formats('svg')\n",
    "   # Here _ means that we ignore (not use) variables\n",
    "   _, figs = plt.subplots(1, len(images), figsize=(12, 12))\n",
    "   for f, img, lbl in zip(figs, images, labels):\n",
    "       f.imshow(img.reshape((28, 28)).asnumpy())\n",
    "       f.set_title(lbl)\n",
    "       f.axes.get_xaxis().set_visible(False)\n",
    "       f.axes.get_yaxis().set_visible(False)"
   ]
  },
  {
   "cell_type": "code",
   "execution_count": 6,
   "metadata": {},
   "outputs": [],
   "source": [
    "X, y = mnist_train[0:9]\n",
    "# show_mnist(X, get_mnist_labels(y))"
   ]
  },
  {
   "cell_type": "code",
   "execution_count": 7,
   "metadata": {},
   "outputs": [],
   "source": [
    "batch_size = 256\n",
    "transformer = gdata.vision.transforms.ToTensor()\n",
    "if sys.platform.startswith('win'):\n",
    "   # 0 means no additional processes are needed to speed up the reading of\n",
    "   # data\n",
    "   num_workers = 0\n",
    "else:\n",
    "   num_workers = 4\n",
    "\n",
    "train_iter = gdata.DataLoader(mnist_train.transform_first(transformer),\n",
    "   batch_size, shuffle=True,\n",
    "   num_workers=num_workers)\n",
    "test_iter = gdata.DataLoader(mnist_test.transform_first(transformer),\n",
    "   batch_size, shuffle=False,\n",
    "   num_workers=num_workers)"
   ]
  },
  {
   "cell_type": "code",
   "execution_count": 8,
   "metadata": {},
   "outputs": [],
   "source": [
    "start = time.time()\n",
    "for X, y in train_iter:\n",
    "   continue\n",
    "'%.2f sec' % (time.time() - start)\n",
    "\n",
    "#Initialize the Model\n",
    "def init(net, optimizer='sgd', learning_rate=0.1, weight_decay=0.001, ctx=mx.cpu()):\n",
    "   net.collect_params().initialize(mx.init.Xavier(magnitude=2.24), ctx=ctx)\n",
    "   trainer = gluon.Trainer(net.collect_params(),\n",
    "                           optimizer,\n",
    "                           {'learning_rate': learning_rate, 'wd': weight_decay})\n",
    "   return trainer"
   ]
  },
  {
   "cell_type": "code",
   "execution_count": 9,
   "metadata": {},
   "outputs": [],
   "source": [
    "# Computing Accuracy\n",
    "def accuracy(data_iterator, net,ctx=mx.cpu()):\n",
    "   acc = mx.metric.Accuracy()\n",
    "   for (data, label) in data_iterator:\n",
    "       data = data.as_in_context(ctx)\n",
    "       label = label.as_in_context(ctx)\n",
    "       output = net(data)\n",
    "       predictions = mx.nd.argmax(output, axis=1)\n",
    "       acc.update(preds=predictions, labels=label)\n",
    "   return acc.get()[1]"
   ]
  },
  {
   "cell_type": "code",
   "execution_count": 10,
   "metadata": {},
   "outputs": [],
   "source": [
    "#Training the Model\n",
    "def train(net, trainer, train_data, validation_data, epochs, ctx=mx.cpu()):\n",
    "   training_accuracies = []\n",
    "   validation_accuracies = []\n",
    "   softmax_cross_entropy = gluon.loss.SoftmaxCrossEntropyLoss()\n",
    "   for e in range(epochs):\n",
    "       tic = time.time()\n",
    "       for (data, label) in train_data:\n",
    "           data  = data.as_in_context(ctx)\n",
    "           label = label.as_in_context(ctx)\n",
    "           with autograd.record():\n",
    "               output = net(data)\n",
    "               loss = softmax_cross_entropy(output, label)\n",
    "               loss.backward()\n",
    "           trainer.step(data.shape[0])\n",
    "       toc = time.time()\n",
    "       train_accuracy = accuracy(train_data, net)\n",
    "       training_accuracies.append(train_accuracy)\n",
    "       validation_accuracy = accuracy(validation_data, net)\n",
    "       validation_accuracies.append(validation_accuracy)\n",
    "       print(\"Epoch#%d Time=%.2f Training=%.4f Validation=%.4f Diff=%.4f\"\n",
    "             % (e, toc-tic, train_accuracy, validation_accuracy, train_accuracy-validation_accuracy))\n",
    "   return training_accuracies, validation_accuracies"
   ]
  },
  {
   "cell_type": "code",
   "execution_count": 11,
   "metadata": {},
   "outputs": [],
   "source": [
    "#Plotting\n",
    "def plot_accuracies(training_accuracies, validation_accuracies):\n",
    "   epochs = len(training_accuracies)\n",
    "   plt.clf()\n",
    "   fig, ax = plt.subplots()\n",
    "   plt.xlabel('Epochs')\n",
    "   plt.ylabel('Accuracy')\n",
    "   train_plot, = ax.plot(range(epochs), training_accuracies, label=\"Training accuracy\")\n",
    "   validation_plot, = ax.plot(range(epochs), validation_accuracies, label=\"Validation accuracy\")\n",
    "   plt.legend(handles=[train_plot,validation_plot])\n",
    "   plt.xticks(np.arange(0, epochs, 5))\n",
    "   ax.yaxis.set_major_formatter(ticker.FormatStrFormatter('%0.4f'))\n",
    "   plt.show()\n"
   ]
  },
  {
   "cell_type": "code",
   "execution_count": 12,
   "metadata": {},
   "outputs": [
    {
     "name": "stdout",
     "output_type": "stream",
     "text": [
      "Sequential(\n",
      "  (0): Conv2D(None -> 6, kernel_size=(5, 5), stride=(1, 1), padding=(2, 2), Activation(sigmoid))\n",
      "  (1): AvgPool2D(size=(2, 2), stride=(2, 2), padding=(0, 0), ceil_mode=False)\n",
      "  (2): Conv2D(None -> 16, kernel_size=(5, 5), stride=(1, 1), Activation(sigmoid))\n",
      "  (3): AvgPool2D(size=(2, 2), stride=(2, 2), padding=(0, 0), ceil_mode=False)\n",
      "  (4): Dense(None -> 120, Activation(sigmoid))\n",
      "  (5): Dense(None -> 84, Activation(sigmoid))\n",
      "  (6): Dense(None -> 10, linear)\n",
      ")\n",
      "Epoch#0 Time=1.28 Training=0.0986 Validation=0.0958 Diff=0.0028\n",
      "Epoch#1 Time=1.23 Training=0.1022 Validation=0.1010 Diff=0.0012\n",
      "Epoch#2 Time=1.33 Training=0.1022 Validation=0.1010 Diff=0.0012\n",
      "Epoch#3 Time=1.29 Training=0.0986 Validation=0.0958 Diff=0.0028\n",
      "Epoch#4 Time=1.29 Training=0.1124 Validation=0.1135 Diff=-0.0011\n",
      "Epoch#5 Time=1.33 Training=0.1022 Validation=0.1010 Diff=0.0012\n",
      "Epoch#6 Time=1.27 Training=0.0987 Validation=0.0980 Diff=0.0007\n",
      "Epoch#7 Time=1.30 Training=0.1124 Validation=0.1135 Diff=-0.0011\n",
      "Epoch#8 Time=1.64 Training=0.1124 Validation=0.1135 Diff=-0.0011\n",
      "Epoch#9 Time=1.30 Training=0.1044 Validation=0.1028 Diff=0.0016\n",
      "Epoch#10 Time=1.27 Training=0.1124 Validation=0.1135 Diff=-0.0011\n",
      "Epoch#11 Time=1.55 Training=0.1044 Validation=0.1028 Diff=0.0016\n",
      "Epoch#12 Time=1.29 Training=0.1044 Validation=0.1028 Diff=0.0016\n",
      "Epoch#13 Time=1.27 Training=0.1044 Validation=0.1028 Diff=0.0016\n",
      "Epoch#14 Time=1.28 Training=0.0993 Validation=0.1032 Diff=-0.0039\n",
      "Epoch#15 Time=1.33 Training=0.0992 Validation=0.1009 Diff=-0.0018\n",
      "Epoch#16 Time=1.34 Training=0.1124 Validation=0.1135 Diff=-0.0011\n",
      "Epoch#17 Time=1.26 Training=0.1124 Validation=0.1135 Diff=-0.0011\n",
      "Epoch#18 Time=1.56 Training=0.1124 Validation=0.1135 Diff=-0.0011\n",
      "Epoch#19 Time=1.41 Training=0.1044 Validation=0.1028 Diff=0.0016\n",
      "Epoch#20 Time=1.47 Training=0.1044 Validation=0.1028 Diff=0.0016\n",
      "Epoch#21 Time=1.36 Training=0.1044 Validation=0.1028 Diff=0.0016\n",
      "Epoch#22 Time=1.35 Training=0.1124 Validation=0.1135 Diff=-0.0011\n",
      "Epoch#23 Time=1.36 Training=0.1022 Validation=0.1010 Diff=0.0012\n",
      "Epoch#24 Time=1.37 Training=0.1893 Validation=0.1889 Diff=0.0004\n",
      "Epoch#25 Time=1.38 Training=0.0993 Validation=0.1032 Diff=-0.0039\n",
      "Epoch#26 Time=1.37 Training=0.1124 Validation=0.1135 Diff=-0.0011\n",
      "Epoch#27 Time=1.43 Training=0.1124 Validation=0.1135 Diff=-0.0011\n",
      "Epoch#28 Time=1.37 Training=0.1124 Validation=0.1135 Diff=-0.0011\n",
      "Epoch#29 Time=1.38 Training=0.1124 Validation=0.1135 Diff=-0.0011\n",
      "Epoch#30 Time=1.42 Training=0.0992 Validation=0.1009 Diff=-0.0018\n",
      "Epoch#31 Time=1.37 Training=0.1124 Validation=0.1135 Diff=-0.0011\n",
      "Epoch#32 Time=1.34 Training=0.1124 Validation=0.1135 Diff=-0.0011\n",
      "Epoch#33 Time=1.40 Training=0.1124 Validation=0.1135 Diff=-0.0011\n",
      "Epoch#34 Time=1.41 Training=0.1174 Validation=0.1194 Diff=-0.0020\n",
      "Epoch#35 Time=1.36 Training=0.0975 Validation=0.0974 Diff=0.0001\n",
      "Epoch#36 Time=1.36 Training=0.0993 Validation=0.1032 Diff=-0.0039\n",
      "Epoch#37 Time=1.37 Training=0.0986 Validation=0.0958 Diff=0.0028\n",
      "Epoch#38 Time=1.38 Training=0.1022 Validation=0.1010 Diff=0.0012\n",
      "Epoch#39 Time=1.37 Training=0.1124 Validation=0.1135 Diff=-0.0011\n",
      "Epoch#40 Time=1.38 Training=0.1044 Validation=0.1028 Diff=0.0016\n",
      "Epoch#41 Time=1.48 Training=0.0993 Validation=0.1032 Diff=-0.0039\n",
      "Epoch#42 Time=1.65 Training=0.0986 Validation=0.0958 Diff=0.0028\n",
      "Epoch#43 Time=1.54 Training=0.0975 Validation=0.0974 Diff=0.0001\n",
      "Epoch#44 Time=1.55 Training=0.1124 Validation=0.1135 Diff=-0.0011\n",
      "Epoch#45 Time=1.46 Training=0.1124 Validation=0.1135 Diff=-0.0011\n",
      "Epoch#46 Time=1.36 Training=0.0987 Validation=0.0980 Diff=0.0007\n",
      "Epoch#47 Time=1.30 Training=0.0992 Validation=0.1009 Diff=-0.0018\n",
      "Epoch#48 Time=1.28 Training=0.1124 Validation=0.1135 Diff=-0.0011\n",
      "Epoch#49 Time=1.29 Training=0.1124 Validation=0.1135 Diff=-0.0011\n"
     ]
    },
    {
     "data": {
      "text/plain": [
       "<Figure size 432x288 with 0 Axes>"
      ]
     },
     "metadata": {},
     "output_type": "display_data"
    },
    {
     "data": {
      "image/png": "[encoded data removed]",
      "text/plain": [
       "<Figure size 432x288 with 1 Axes>"
      ]
     },
     "metadata": {
      "needs_background": "light"
     },
     "output_type": "display_data"
    }
   ],
   "source": [
    "net = nn.Sequential()\n",
    "# net.add(\n",
    "#    nn.Conv2D(channels=64, kernel_size=3, strides=1, padding=1, activation='relu'),\n",
    "#    nn.MaxPool2D(pool_size=2, strides=2, padding=0, ceil_mode=False),\n",
    "#    nn.Conv2D(channels=64, kernel_size=3, strides=1, activation='relu'),\n",
    "#    nn.MaxPool2D(pool_size=2, strides=2, padding=0, ceil_mode=False),\n",
    "#    nn.Flatten(),\n",
    "#    nn.Dense(256, activation='relu'),\n",
    "#    nn.Dense(64, activation='relu'),\n",
    "#    nn.Dense(10)\n",
    "# )\n",
    "net = nn.Sequential()\n",
    "net.add(\n",
    "    nn.Conv2D(channels=6, kernel_size=5, padding=2, activation='sigmoid'),\n",
    "    nn.AvgPool2D(pool_size=2, strides=2),\n",
    "    nn.Conv2D(channels=16, kernel_size=5, activation='sigmoid'),\n",
    "    nn.AvgPool2D(pool_size=2, strides=2),\n",
    "    nn.Dense(120, activation='sigmoid'),\n",
    "    nn.Dense(84, activation='sigmoid'),\n",
    "    nn.Dense(10)\n",
    ")\n",
    "print(net)\n",
    "trainer = init(net)\n",
    "training_accuracies, validation_accuracies = train(net, trainer, train_iter, test_iter, 50)\n",
    "plot_accuracies(training_accuracies, validation_accuracies)"
   ]
  },
  {
   "cell_type": "code",
   "execution_count": null,
   "metadata": {},
   "outputs": [],
   "source": []
  }
 ],
 "metadata": {
  "kernelspec": {
   "display_name": "Python 3",
   "language": "python",
   "name": "python3"
  },
  "language_info": {
   "codemirror_mode": {
    "name": "ipython",
    "version": 3
   },
   "file_extension": ".py",
   "mimetype": "text/x-python",
   "name": "python",
   "nbconvert_exporter": "python",
   "pygments_lexer": "ipython3",
   "version": "3.7.3"
  }
 },
 "nbformat": 4,
 "nbformat_minor": 2
}

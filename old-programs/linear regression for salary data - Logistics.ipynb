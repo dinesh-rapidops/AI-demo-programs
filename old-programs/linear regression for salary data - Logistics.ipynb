{
 "cells": [
  {
   "cell_type": "code",
   "execution_count": 30,
   "metadata": {},
   "outputs": [],
   "source": [
    "import mxnet as mx\n",
    "from mxnet import nd, autograd, gluon\n",
    "import matplotlib.pyplot as plt"
   ]
  },
  {
   "cell_type": "code",
   "execution_count": 31,
   "metadata": {},
   "outputs": [],
   "source": [
    "def logistic(z):\n",
    "    return 1. / (1. + nd.exp(-z))"
   ]
  },
  {
   "cell_type": "code",
   "execution_count": 32,
   "metadata": {},
   "outputs": [],
   "source": [
    "data_ctx = mx.cpu()"
   ]
  },
  {
   "cell_type": "code",
   "execution_count": 33,
   "metadata": {},
   "outputs": [],
   "source": [
    "# Change this to `mx.gpu(0) if you would like to train on an NVIDIA GPU\n",
    "model_ctx = mx.cpu()\n",
    "with open(\"/Users/dinesh/python-test/ala.train\") as f:\n",
    "   train_raw = f.read()\n",
    "with open(\"/Users/dinesh/python-test/ala.test\") as f:\n",
    "   test_raw = f.read()\n"
   ]
  },
  {
   "cell_type": "code",
   "execution_count": 34,
   "metadata": {},
   "outputs": [],
   "source": [
    "def process_data(raw_data):\n",
    "   train_lines = raw_data.splitlines()\n",
    "   num_examples = len(train_lines)\n",
    "   num_features = 123\n",
    "   X = nd.zeros((num_examples, num_features), ctx=data_ctx)\n",
    "   Y = nd.zeros((num_examples, 1), ctx=data_ctx)\n",
    "   for i, line in enumerate(train_lines):\n",
    "       print(line)\n",
    "       tokens = line.split()\n",
    "       label = (int(tokens[0]) + 1) / 2  # Change label from {-1,1} to {0,1}\n",
    "       Y[i] = label\n",
    "       for token in tokens[1:]:\n",
    "           print (token)\n",
    "           index = int(token[:-2]) - 1\n",
    "           print(index)\n",
    "           X[i, index] = 1\n",
    "           break\n",
    "       break\n",
    "   return X, Y"
   ]
  },
  {
   "cell_type": "code",
   "execution_count": 35,
   "metadata": {},
   "outputs": [
    {
     "name": "stdout",
     "output_type": "stream",
     "text": [
      "-1 5:1 7:1 14:1 19:1 39:1 40:1 51:1 63:1 67:1 73:1 74:1 76:1 78:1 83:1 \n",
      "5:1\n",
      "4\n",
      "\n",
      "[[0. 0. 0. ... 0. 0. 0.]\n",
      " [0. 0. 0. ... 0. 0. 0.]\n",
      " [0. 0. 0. ... 0. 0. 0.]\n",
      " ...\n",
      " [0. 0. 0. ... 0. 0. 0.]\n",
      " [0. 0. 0. ... 0. 0. 0.]\n",
      " [0. 0. 0. ... 0. 0. 0.]]\n",
      "<NDArray 30956x123 @cpu(0)> \n",
      "[[0.]\n",
      " [0.]\n",
      " [0.]\n",
      " ...\n",
      " [0.]\n",
      " [0.]\n",
      " [0.]]\n",
      "<NDArray 30956x1 @cpu(0)>\n",
      "-1 3:1 11:1 14:1 19:1 39:1 42:1 55:1 64:1 67:1 73:1 75:1 76:1 80:1 83:1 \n",
      "3:1\n",
      "2\n"
     ]
    }
   ],
   "source": [
    "Xtrain, Ytrain = process_data(train_raw)\n",
    "print(Xtrain, Ytrain)\n",
    "Xtest, Ytest = process_data(test_raw)\n"
   ]
  },
  {
   "cell_type": "code",
   "execution_count": 36,
   "metadata": {},
   "outputs": [
    {
     "name": "stdout",
     "output_type": "stream",
     "text": [
      "(30956, 123)\n",
      "(30956, 1)\n",
      "(1605, 123)\n",
      "(1605, 1)\n"
     ]
    }
   ],
   "source": [
    "print(Xtrain.shape)\n",
    "print(Ytrain.shape)\n",
    "print(Xtest.shape)\n",
    "print(Ytest.shape)"
   ]
  },
  {
   "cell_type": "code",
   "execution_count": 37,
   "metadata": {},
   "outputs": [],
   "source": [
    "batch_size = 64\n",
    "train_data = gluon.data.DataLoader(gluon.data.ArrayDataset(Xtrain, Ytrain),\n",
    "                                     batch_size=batch_size, shuffle=True)\n",
    "test_data = gluon.data.DataLoader(gluon.data.ArrayDataset(Xtest, Ytest),\n",
    "                                     batch_size=batch_size, shuffle=True)\n"
   ]
  },
  {
   "cell_type": "code",
   "execution_count": 38,
   "metadata": {},
   "outputs": [],
   "source": [
    "# Step2: Define the Model\n",
    "net = gluon.nn.Dense(1)\n",
    "net.collect_params().initialize(mx.init.Normal(sigma=1.), ctx=model_ctx)"
   ]
  },
  {
   "cell_type": "code",
   "execution_count": 39,
   "metadata": {},
   "outputs": [],
   "source": [
    "# Initiate an optimizer\n",
    "trainer = gluon.Trainer(net.collect_params(), 'sgd', {'learning_rate': 0.0001})"
   ]
  },
  {
   "cell_type": "code",
   "execution_count": 40,
   "metadata": {},
   "outputs": [],
   "source": [
    "# Define the loss\n",
    "def log_loss(output, y):\n",
    "   yhat = logistic(output)\n",
    "   return  - nd.nansum(  y * nd.log(yhat) + (1-y) * nd.log(1-yhat))\n"
   ]
  },
  {
   "cell_type": "code",
   "execution_count": 41,
   "metadata": {},
   "outputs": [
    {
     "name": "stdout",
     "output_type": "stream",
     "text": [
      "Epoch 0, loss: 21271.25824356079\n",
      "Epoch 1, loss: 20905.861001968384\n",
      "Epoch 2, loss: 20549.19149208069\n",
      "Epoch 3, loss: 20201.03652572632\n",
      "Epoch 4, loss: 19861.18651199341\n",
      "Epoch 5, loss: 19529.43405532837\n",
      "Epoch 6, loss: 19205.57582092285\n",
      "Epoch 7, loss: 18889.413007736206\n",
      "Epoch 8, loss: 18580.748342514038\n",
      "Epoch 9, loss: 18279.389739990234\n",
      "Epoch 10, loss: 17985.14852333069\n",
      "Epoch 11, loss: 17697.83980178833\n",
      "Epoch 12, loss: 17417.283210754395\n",
      "Epoch 13, loss: 17143.30065727234\n",
      "Epoch 14, loss: 16875.719902038574\n",
      "Epoch 15, loss: 16614.37242126465\n",
      "Epoch 16, loss: 16359.092529296875\n",
      "Epoch 17, loss: 16109.71989440918\n",
      "Epoch 18, loss: 15866.096029281616\n",
      "Epoch 19, loss: 15628.067974090576\n",
      "Epoch 20, loss: 15395.486032485962\n",
      "Epoch 21, loss: 15168.203908920288\n",
      "Epoch 22, loss: 14946.080347061157\n",
      "Epoch 23, loss: 14728.978549957275\n",
      "Epoch 24, loss: 14516.762725830078\n",
      "Epoch 25, loss: 14309.300117492676\n",
      "Epoch 26, loss: 14106.463665008545\n",
      "Epoch 27, loss: 13908.12882232666\n",
      "Epoch 28, loss: 13714.176271438599\n",
      "Epoch 29, loss: 13524.487403869629\n"
     ]
    }
   ],
   "source": [
    "# Train\n",
    "epochs = 30\n",
    "loss_sequence = []\n",
    "num_examples = len(Xtrain)\n",
    "\n",
    "for e in range(epochs):\n",
    "   cumulative_loss = 0\n",
    "   for i, (data, label) in enumerate(train_data):\n",
    "       data = data.as_in_context(model_ctx)\n",
    "       label = label.as_in_context(model_ctx)\n",
    "       with autograd.record():\n",
    "           output = net(data)\n",
    "           loss = log_loss(output, label)\n",
    "       loss.backward()\n",
    "       trainer.step(batch_size)\n",
    "       cumulative_loss += nd.sum(loss).asscalar()\n",
    "   print(\"Epoch %s, loss: %s\" % (e, cumulative_loss ))\n",
    "   loss_sequence.append(cumulative_loss)"
   ]
  },
  {
   "cell_type": "code",
   "execution_count": 42,
   "metadata": {},
   "outputs": [
    {
     "data": {
      "text/plain": [
       "Text(0, 0.5, 'average loss')"
      ]
     },
     "execution_count": 42,
     "metadata": {},
     "output_type": "execute_result"
    },
    {
     "data": {
      "image/png": "[encoded data removed]",
      "text/plain": [
       "<Figure size 576x432 with 1 Axes>"
      ]
     },
     "metadata": {
      "needs_background": "light"
     },
     "output_type": "display_data"
    }
   ],
   "source": [
    "# Visualize learning curve\n",
    "# plot the convergence of the estimated loss function\n",
    "%matplotlib inline\n",
    "\n",
    "import matplotlib\n",
    "import matplotlib.pyplot as plt\n",
    "\n",
    "plt.figure(num=None,figsize=(8, 6))\n",
    "plt.plot(loss_sequence)\n",
    "\n",
    "# Adding some bells and whistles to the plot\n",
    "plt.grid(True, which=\"both\")\n",
    "plt.xlabel('epoch',fontsize=14)\n",
    "plt.ylabel('average loss',fontsize=14)"
   ]
  },
  {
   "cell_type": "code",
   "execution_count": 43,
   "metadata": {},
   "outputs": [
    {
     "name": "stdout",
     "output_type": "stream",
     "text": [
      "Accuracy: 0.999 (1604.0/1605)\n"
     ]
    }
   ],
   "source": [
    "# Calcuate Accuracy\n",
    "num_correct = 0.0\n",
    "num_total = len(Xtest)\n",
    "for i, (data, label) in enumerate(test_data):\n",
    "   data = data.as_in_context(model_ctx)\n",
    "   label = label.as_in_context(model_ctx)\n",
    "   output = net(data)\n",
    "   prediction = (nd.sign(output) + 1) / 2\n",
    "   num_correct += nd.sum(prediction == label)\n",
    "print(\"Accuracy: %0.3f (%s/%s)\" % (num_correct.asscalar()/num_total, num_correct.asscalar(), num_total))"
   ]
  },
  {
   "cell_type": "code",
   "execution_count": null,
   "metadata": {},
   "outputs": [],
   "source": []
  }
 ],
 "metadata": {
  "kernelspec": {
   "display_name": "Python 3",
   "language": "python",
   "name": "python3"
  },
  "language_info": {
   "codemirror_mode": {
    "name": "ipython",
    "version": 3
   },
   "file_extension": ".py",
   "mimetype": "text/x-python",
   "name": "python",
   "nbconvert_exporter": "python",
   "pygments_lexer": "ipython3",
   "version": "3.7.3"
  }
 },
 "nbformat": 4,
 "nbformat_minor": 2
}

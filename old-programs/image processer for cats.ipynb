{
 "cells": [
  {
   "cell_type": "code",
   "execution_count": 24,
   "metadata": {},
   "outputs": [],
   "source": [
    "import sys\n",
    "sys.path.insert(0, '..')\n",
    "%matplotlib inline\n",
    "from IPython import display\n",
    "from matplotlib import pyplot as plt\n",
    "import matplotlib.ticker as ticker\n",
    "from mxnet.gluon import data as gdata\n",
    "import sys\n",
    "import time\n",
    "from mxnet import gluon, init, autograd\n",
    "from mxnet.gluon import loss as gloss, nn\n",
    "import mxnet as mx\n",
    "import numpy as np\n",
    "import mxnet as mx\n",
    "from mxnet import nd, autograd, gluon"
   ]
  },
  {
   "cell_type": "code",
   "execution_count": 25,
   "metadata": {},
   "outputs": [
    {
     "data": {
      "text/plain": [
       "(50000, 10000)"
      ]
     },
     "execution_count": 25,
     "metadata": {},
     "output_type": "execute_result"
    }
   ],
   "source": [
    "mnist_train = gdata.vision.CIFAR10(train=True)\n",
    "mnist_test = gdata.vision.CIFAR10(train=False)\n",
    "len(mnist_train), len(mnist_test)"
   ]
  },
  {
   "cell_type": "code",
   "execution_count": 26,
   "metadata": {},
   "outputs": [
    {
     "data": {
      "text/plain": [
       "((32, 32, 3), numpy.uint8)"
      ]
     },
     "execution_count": 26,
     "metadata": {},
     "output_type": "execute_result"
    }
   ],
   "source": [
    "feature, label = mnist_train[0]\n",
    "feature.shape, feature.dtype"
   ]
  },
  {
   "cell_type": "code",
   "execution_count": 27,
   "metadata": {},
   "outputs": [
    {
     "data": {
      "text/plain": [
       "(6, numpy.int32, dtype('int32'))"
      ]
     },
     "execution_count": 27,
     "metadata": {},
     "output_type": "execute_result"
    }
   ],
   "source": [
    "label, type(label), label.dtype"
   ]
  },
  {
   "cell_type": "code",
   "execution_count": 28,
   "metadata": {},
   "outputs": [],
   "source": [
    "def get_fashion_mnist_labels(labels):\n",
    "   text_labels = ['airplane', 'automobile', 'bird', 'cat', 'deer',\n",
    "   'dog', 'frog', 'horse', 'ship', 'truck']\n",
    "   return [text_labels[int(i)] for i in labels]"
   ]
  },
  {
   "cell_type": "code",
   "execution_count": 29,
   "metadata": {},
   "outputs": [],
   "source": [
    "def show_mnist(images, labels):\n",
    "   display.get_fashion_mnist_labels('svg')\n",
    "   # Here _ means that we ignore (not use) variables\n",
    "   _, figs = plt.subplots(1, len(images), figsize=(12, 12))\n",
    "   for f, img, lbl in zip(figs, images, labels):\n",
    "       f.imshow(img.reshape((28, 28)).asnumpy())\n",
    "       f.set_title(lbl)\n",
    "       f.axes.get_xaxis().set_visible(False)\n",
    "       f.axes.get_yaxis().set_visible(False)"
   ]
  },
  {
   "cell_type": "code",
   "execution_count": 30,
   "metadata": {},
   "outputs": [],
   "source": [
    "X, y = mnist_train[0:9]\n",
    "# show_mnist(X, get_mnist_labels(y))"
   ]
  },
  {
   "cell_type": "code",
   "execution_count": 31,
   "metadata": {},
   "outputs": [],
   "source": [
    "batch_size = 2\n",
    "transformer = gdata.vision.transforms.ToTensor()\n",
    "if sys.platform.startswith('win'):\n",
    "    num_workers = 0\n",
    "else:\n",
    "    num_workers = 4\n",
    "train_iter = gdata.DataLoader(mnist_train.transform_first(transformer),\n",
    "   batch_size, shuffle=True,\n",
    "   num_workers=num_workers)\n",
    "test_iter = gdata.DataLoader(mnist_test.transform_first(transformer),\n",
    "   batch_size, shuffle=False,\n",
    "   num_workers=num_workers)\n"
   ]
  },
  {
   "cell_type": "code",
   "execution_count": 32,
   "metadata": {},
   "outputs": [
    {
     "data": {
      "text/plain": [
       "'5.50 sec'"
      ]
     },
     "execution_count": 32,
     "metadata": {},
     "output_type": "execute_result"
    }
   ],
   "source": [
    "start = time.time()\n",
    "for X, y in train_iter:\n",
    "    continue\n",
    "'%.2f sec' % (time.time() - start)"
   ]
  },
  {
   "cell_type": "code",
   "execution_count": 33,
   "metadata": {},
   "outputs": [],
   "source": [
    "#Initialize the Model\n",
    "def init(net, optimizer='sgd', learning_rate=0.00001, weight_decay=1e-6, ctx=mx.cpu()):\n",
    "   net.collect_params().initialize(mx.init.Xavier(magnitude=2.24), ctx=ctx)\n",
    "   trainer = gluon.Trainer(net.collect_params(),\n",
    "                           optimizer,\n",
    "                           {'learning_rate': learning_rate, 'wd': weight_decay})\n",
    "   return trainer"
   ]
  },
  {
   "cell_type": "code",
   "execution_count": 34,
   "metadata": {},
   "outputs": [],
   "source": [
    "# Computing Accuracy\n",
    "def accuracy(data_iterator, net,ctx=mx.cpu()):\n",
    "   acc = mx.metric.Accuracy()\n",
    "   for (data, label) in data_iterator:\n",
    "       data = data.as_in_context(ctx)\n",
    "       label = label.as_in_context(ctx)\n",
    "       output = net(data)\n",
    "       predictions = mx.nd.argmax(output, axis=1)\n",
    "       acc.update(preds=predictions, labels=label)\n",
    "   return acc.get()[1]"
   ]
  },
  {
   "cell_type": "code",
   "execution_count": 35,
   "metadata": {},
   "outputs": [],
   "source": [
    "#Training the Model\n",
    "def train(net, trainer, train_data, validation_data, epochs, ctx=mx.cpu()):\n",
    "   training_accuracies = []\n",
    "   validation_accuracies = []\n",
    "   softmax_cross_entropy = gluon.loss.SoftmaxCrossEntropyLoss()\n",
    "   for e in range(epochs):\n",
    "       tic = time.time()\n",
    "       for (data, label) in train_data:\n",
    "           data  = data.as_in_context(ctx)\n",
    "           label = label.as_in_context(ctx)\n",
    "           with autograd.record():\n",
    "               output = net(data)\n",
    "               loss = softmax_cross_entropy(output, label)\n",
    "               loss.backward()\n",
    "           trainer.step(data.shape[0])\n",
    "       toc = time.time()\n",
    "       train_accuracy = accuracy(train_data, net)\n",
    "       training_accuracies.append(train_accuracy)\n",
    "       validation_accuracy = accuracy(validation_data, net)\n",
    "       validation_accuracies.append(validation_accuracy)\n",
    "       print(\"Epoch#%d Time=%.2f Training=%.4f Validation=%.4f Diff=%.4f\"\n",
    "             % (e, toc-tic, train_accuracy, validation_accuracy, train_accuracy-validation_accuracy))\n",
    "   return training_accuracies, validation_accuracies"
   ]
  },
  {
   "cell_type": "code",
   "execution_count": 36,
   "metadata": {},
   "outputs": [],
   "source": [
    "#Plotting\n",
    "def plot_accuracies(training_accuracies, validation_accuracies):\n",
    "   epochs = len(training_accuracies)\n",
    "   plt.clf()\n",
    "   fig, ax = plt.subplots()\n",
    "   plt.xlabel('Epochs')\n",
    "   plt.ylabel('Accuracy')\n",
    "   train_plot, = ax.plot(range(epochs), training_accuracies, label=\"Training accuracy\")\n",
    "   validation_plot, = ax.plot(range(epochs), validation_accuracies, label=\"Validation accuracy\")\n",
    "   plt.legend(handles=[train_plot,validation_plot])\n",
    "   plt.xticks(np.arange(0, epochs, 5))\n",
    "   ax.yaxis.set_major_formatter(ticker.FormatStrFormatter('%0.4f'))\n",
    "   plt.show()"
   ]
  },
  {
   "cell_type": "code",
   "execution_count": 37,
   "metadata": {},
   "outputs": [
    {
     "name": "stdout",
     "output_type": "stream",
     "text": [
      "Epoch#0 Time=26.26 Training=0.2157 Validation=0.2078 Diff=0.0079\n",
      "Epoch#1 Time=25.78 Training=0.2605 Validation=0.2541 Diff=0.0064\n",
      "Epoch#2 Time=25.45 Training=0.2844 Validation=0.2832 Diff=0.0012\n",
      "Epoch#3 Time=26.14 Training=0.2956 Validation=0.2910 Diff=0.0046\n",
      "Epoch#4 Time=25.35 Training=0.3104 Validation=0.3057 Diff=0.0047\n",
      "Epoch#5 Time=25.12 Training=0.3149 Validation=0.3102 Diff=0.0047\n",
      "Epoch#6 Time=25.06 Training=0.3242 Validation=0.3211 Diff=0.0031\n",
      "Epoch#7 Time=26.42 Training=0.3288 Validation=0.3251 Diff=0.0037\n",
      "Epoch#8 Time=25.50 Training=0.3340 Validation=0.3312 Diff=0.0028\n",
      "Epoch#9 Time=25.99 Training=0.3390 Validation=0.3365 Diff=0.0025\n",
      "Epoch#10 Time=28.77 Training=0.3401 Validation=0.3357 Diff=0.0044\n",
      "Epoch#11 Time=32.71 Training=0.3421 Validation=0.3410 Diff=0.0011\n",
      "Epoch#12 Time=46364.80 Training=0.3398 Validation=0.3409 Diff=-0.0011\n",
      "Epoch#13 Time=29.91 Training=0.3482 Validation=0.3451 Diff=0.0031\n",
      "Epoch#14 Time=25.72 Training=0.3499 Validation=0.3460 Diff=0.0039\n",
      "Epoch#15 Time=25.15 Training=0.3526 Validation=0.3507 Diff=0.0019\n",
      "Epoch#16 Time=25.19 Training=0.3555 Validation=0.3519 Diff=0.0036\n",
      "Epoch#17 Time=25.55 Training=0.3569 Validation=0.3527 Diff=0.0042\n",
      "Epoch#18 Time=26.71 Training=0.3588 Validation=0.3524 Diff=0.0064\n",
      "Epoch#19 Time=27.46 Training=0.3596 Validation=0.3548 Diff=0.0048\n",
      "Epoch#20 Time=32.84 Training=0.3590 Validation=0.3550 Diff=0.0040\n",
      "Epoch#21 Time=31.21 Training=0.3617 Validation=0.3570 Diff=0.0047\n",
      "Epoch#22 Time=27.41 Training=0.3627 Validation=0.3559 Diff=0.0068\n",
      "Epoch#23 Time=25.79 Training=0.3666 Validation=0.3613 Diff=0.0053\n",
      "Epoch#24 Time=27.85 Training=0.3654 Validation=0.3592 Diff=0.0062\n",
      "Epoch#25 Time=28.26 Training=0.3677 Validation=0.3637 Diff=0.0040\n",
      "Epoch#26 Time=27.80 Training=0.3691 Validation=0.3650 Diff=0.0041\n",
      "Epoch#27 Time=27.07 Training=0.3664 Validation=0.3609 Diff=0.0055\n",
      "Epoch#28 Time=27.43 Training=0.3694 Validation=0.3639 Diff=0.0055\n",
      "Epoch#29 Time=28.95 Training=0.3722 Validation=0.3669 Diff=0.0053\n",
      "Epoch#30 Time=27.17 Training=0.3724 Validation=0.3680 Diff=0.0044\n",
      "Epoch#31 Time=26.55 Training=0.3714 Validation=0.3678 Diff=0.0036\n",
      "Epoch#32 Time=26.19 Training=0.3738 Validation=0.3685 Diff=0.0053\n",
      "Epoch#33 Time=26.36 Training=0.3744 Validation=0.3700 Diff=0.0044\n",
      "Epoch#34 Time=25.14 Training=0.3765 Validation=0.3712 Diff=0.0053\n",
      "Epoch#35 Time=25.21 Training=0.3755 Validation=0.3705 Diff=0.0050\n",
      "Epoch#36 Time=27.45 Training=0.3754 Validation=0.3706 Diff=0.0048\n",
      "Epoch#37 Time=25.09 Training=0.3763 Validation=0.3700 Diff=0.0063\n",
      "Epoch#38 Time=24.99 Training=0.3759 Validation=0.3705 Diff=0.0054\n",
      "Epoch#39 Time=24.93 Training=0.3789 Validation=0.3727 Diff=0.0062\n",
      "Epoch#40 Time=24.96 Training=0.3784 Validation=0.3726 Diff=0.0058\n",
      "Epoch#41 Time=24.95 Training=0.3778 Validation=0.3723 Diff=0.0055\n",
      "Epoch#42 Time=24.92 Training=0.3813 Validation=0.3757 Diff=0.0056\n",
      "Epoch#43 Time=24.92 Training=0.3806 Validation=0.3739 Diff=0.0067\n",
      "Epoch#44 Time=24.90 Training=0.3803 Validation=0.3724 Diff=0.0079\n",
      "Epoch#45 Time=25.19 Training=0.3812 Validation=0.3741 Diff=0.0071\n",
      "Epoch#46 Time=24.91 Training=0.3817 Validation=0.3735 Diff=0.0082\n",
      "Epoch#47 Time=24.89 Training=0.3812 Validation=0.3768 Diff=0.0044\n",
      "Epoch#48 Time=24.92 Training=0.3830 Validation=0.3772 Diff=0.0058\n",
      "Epoch#49 Time=24.93 Training=0.3842 Validation=0.3783 Diff=0.0059\n"
     ]
    },
    {
     "data": {
      "text/plain": [
       "<Figure size 432x288 with 0 Axes>"
      ]
     },
     "metadata": {},
     "output_type": "display_data"
    },
    {
     "data": {
      "image/png": "[encoded data removed]",
      "text/plain": [
       "<Figure size 432x288 with 1 Axes>"
      ]
     },
     "metadata": {
      "needs_background": "light"
     },
     "output_type": "display_data"
    }
   ],
   "source": [
    "net = nn.Sequential()\n",
    "net.add(nn.Dense(10))\n",
    "trainer = init(net)\n",
    "training_accuracies, validation_accuracies = train(net, trainer, train_iter, test_iter, 50)\n",
    "plot_accuracies(training_accuracies, validation_accuracies)"
   ]
  },
  {
   "cell_type": "code",
   "execution_count": null,
   "metadata": {},
   "outputs": [],
   "source": []
  }
 ],
 "metadata": {
  "kernelspec": {
   "display_name": "Python 3",
   "language": "python",
   "name": "python3"
  },
  "language_info": {
   "codemirror_mode": {
    "name": "ipython",
    "version": 3
   },
   "file_extension": ".py",
   "mimetype": "text/x-python",
   "name": "python",
   "nbconvert_exporter": "python",
   "pygments_lexer": "ipython3",
   "version": "3.7.3"
  }
 },
 "nbformat": 4,
 "nbformat_minor": 2
}

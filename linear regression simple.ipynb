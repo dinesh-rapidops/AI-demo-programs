{
 "cells": [
  {
   "cell_type": "code",
   "execution_count": 2,
   "metadata": {},
   "outputs": [],
   "source": [
    "from __future__ import print_function\n",
    "import mxnet as mx\n",
    "from mxnet import nd, autograd, gluon\n",
    "mx.random.seed(1)"
   ]
  },
  {
   "cell_type": "code",
   "execution_count": 3,
   "metadata": {},
   "outputs": [],
   "source": [
    "data_ctx = mx.cpu()\n",
    "model_ctx = mx.cpu()"
   ]
  },
  {
   "cell_type": "code",
   "execution_count": 4,
   "metadata": {},
   "outputs": [],
   "source": [
    "num_inputs = 2\n",
    "num_outputs = 1\n",
    "num_examples = 10000\n",
    "def real_fn(X):\n",
    "    return 2 * X[:, 0] - 3.4 * X[:, 1] + 4.2\n",
    "X = nd.random_normal(shape=(num_examples, num_inputs), ctx=data_ctx)\n",
    "noise = .1 * nd.random_normal(shape=(num_examples,), ctx=data_ctx)\n",
    "y = real_fn(X) + noise\n"
   ]
  },
  {
   "cell_type": "code",
   "execution_count": 5,
   "metadata": {},
   "outputs": [
    {
     "data": {
      "text/plain": [
       "<Figure size 640x480 with 1 Axes>"
      ]
     },
     "metadata": {},
     "output_type": "display_data"
    }
   ],
   "source": [
    "import matplotlib.pyplot as plt\n",
    "plt.scatter(X[:, 1].asnumpy(),y.asnumpy())\n",
    "plt.show()"
   ]
  },
  {
   "cell_type": "code",
   "execution_count": 36,
   "metadata": {},
   "outputs": [],
   "source": [
    "batch_size = 3\n",
    "train_data = gluon.data.DataLoader(gluon.data.ArrayDataset(X, y),\n",
    "                                  batch_size=batch_size, shuffle=True)"
   ]
  },
  {
   "cell_type": "code",
   "execution_count": 37,
   "metadata": {},
   "outputs": [
    {
     "name": "stdout",
     "output_type": "stream",
     "text": [
      "\n",
      "[[-1.0361184  -0.32874164]\n",
      " [ 0.12282393  0.08968338]\n",
      " [-1.2742991   1.171567  ]]\n",
      "<NDArray 3x2 @cpu(0)> \n",
      "[ 3.4617715  4.1061516 -2.2489038]\n",
      "<NDArray 3 @cpu(0)>\n"
     ]
    }
   ],
   "source": [
    "for i, (data, label) in enumerate(train_data):\n",
    "   print(data, label)\n",
    "   break"
   ]
  },
  {
   "cell_type": "code",
   "execution_count": 38,
   "metadata": {},
   "outputs": [
    {
     "name": "stdout",
     "output_type": "stream",
     "text": [
      "\n",
      "[[ 0.6400578   0.85067165]\n",
      " [-0.11545629 -0.6701872 ]\n",
      " [ 0.2413527   0.6644538 ]]\n",
      "<NDArray 3x2 @cpu(0)> \n",
      "[2.5808315 6.2687087 2.418439 ]\n",
      "<NDArray 3 @cpu(0)>\n"
     ]
    }
   ],
   "source": [
    "for i, (data, label) in enumerate(train_data):\n",
    "   print(data, label)\n",
    "   break"
   ]
  },
  {
   "cell_type": "code",
   "execution_count": 39,
   "metadata": {},
   "outputs": [],
   "source": [
    "#Model Parameters\n",
    "w = nd.random_normal(shape=(num_inputs, num_outputs), ctx=model_ctx)\n",
    "b = nd.random_normal(shape=num_outputs, ctx=model_ctx)\n",
    "params = [w, b]"
   ]
  },
  {
   "cell_type": "code",
   "execution_count": 40,
   "metadata": {},
   "outputs": [],
   "source": [
    "# Actach Gradient\n",
    "for param in params:\n",
    "    param.attach_grad()"
   ]
  },
  {
   "cell_type": "code",
   "execution_count": 41,
   "metadata": {},
   "outputs": [],
   "source": [
    "# Model Neural Network\n",
    "def net(X):\n",
    "    return mx.nd.dot(X, w) + b"
   ]
  },
  {
   "cell_type": "code",
   "execution_count": 42,
   "metadata": {},
   "outputs": [],
   "source": [
    "# Loss Function\n",
    "def square_loss(yhat, y):\n",
    "    return nd.mean((yhat - y) ** 2)"
   ]
  },
  {
   "cell_type": "code",
   "execution_count": 43,
   "metadata": {},
   "outputs": [],
   "source": [
    "#Optimizer\n",
    "def SGD(params, lr):\n",
    "   for param in params:\n",
    "       param[:] = param - lr * param.grad"
   ]
  },
  {
   "cell_type": "code",
   "execution_count": 44,
   "metadata": {},
   "outputs": [
    {
     "name": "stdout",
     "output_type": "stream",
     "text": [
      "23.649479344872013\n",
      "6.1733606624292205\n",
      "1.6170902406554901\n",
      "0.4293879466503218\n",
      "0.11953304158114478\n",
      "0.03870125243903094\n",
      "0.017618520080843744\n",
      "0.012113852768553805\n",
      "0.010681989267076641\n",
      "0.01031062907560099\n"
     ]
    }
   ],
   "source": [
    "#Executing Training Loop\n",
    "epochs = 10\n",
    "learning_rate = .0001\n",
    "num_batches = num_examples/batch_size\n",
    "\n",
    "for e in range(epochs):\n",
    "   cumulative_loss = 0\n",
    "   # inner loop\n",
    "   for i, (data, label) in enumerate(train_data):\n",
    "       data = data.as_in_context(model_ctx)\n",
    "       label = label.as_in_context(model_ctx).reshape((-1, 1))\n",
    "       with autograd.record():\n",
    "           output = net(data)\n",
    "           loss = square_loss(output, label)\n",
    "       loss.backward()\n",
    "       SGD(params, learning_rate)\n",
    "       cumulative_loss += loss.asscalar()\n",
    "   print(cumulative_loss / num_batches)"
   ]
  },
  {
   "cell_type": "code",
   "execution_count": 48,
   "metadata": {},
   "outputs": [
    {
     "data": {
      "image/png": "[encoded data removed]",
      "text/plain": [
       "<Figure size 432x288 with 2 Axes>"
      ]
     },
     "metadata": {
      "needs_background": "light"
     },
     "output_type": "display_data"
    },
    {
     "name": "stdout",
     "output_type": "stream",
     "text": [
      "Epoch 0, batch 3333. Mean loss: 0.04669632659464878\n",
      "Epoch 1, batch 3333. Mean loss: 0.011427024852453177\n",
      "Epoch 2, batch 3333. Mean loss: 0.011535417428644359\n",
      "Epoch 3, batch 3333. Mean loss: 0.01153655712521031\n",
      "Epoch 4, batch 3333. Mean loss: 0.011517151155701686\n",
      "Epoch 5, batch 3333. Mean loss: 0.011417278701475696\n",
      "Epoch 6, batch 3333. Mean loss: 0.011522225653756322\n",
      "Epoch 7, batch 3333. Mean loss: 0.011504341744413067\n",
      "Epoch 8, batch 3333. Mean loss: 0.011482007621949742\n",
      "Epoch 9, batch 3333. Mean loss: 0.01153218265379155\n"
     ]
    },
    {
     "data": {
      "image/png": "[encoded data removed]",
      "text/plain": [
       "<Figure size 432x288 with 2 Axes>"
      ]
     },
     "metadata": {
      "needs_background": "light"
     },
     "output_type": "display_data"
    }
   ],
   "source": [
    "# Visualizing our training progress\n",
    "############################################\n",
    "#    Re-initialize parameters because they\n",
    "#    were already trained in the first loop\n",
    "############################################\n",
    "w[:] = nd.random_normal(shape=(num_inputs, num_outputs), ctx=model_ctx)\n",
    "b[:] = nd.random_normal(shape=num_outputs, ctx=model_ctx)\n",
    "\n",
    "############################################\n",
    "#    Script to plot the losses over time\n",
    "############################################\n",
    "def plot(losses, X, sample_size=100):\n",
    "   xs = list(range(len(losses)))\n",
    "   f, (fg1, fg2) = plt.subplots(1, 2)\n",
    "   fg1.set_title('Loss during training')\n",
    "   fg1.plot(xs, losses, '-r')\n",
    "   fg2.set_title('Estimated vs real function')\n",
    "   fg2.plot(X[:sample_size, 1].asnumpy(),\n",
    "            net(X[:sample_size, :]).asnumpy(), 'or', label='Estimated')\n",
    "   fg2.plot(X[:sample_size, 1].asnumpy(),\n",
    "            real_fn(X[:sample_size, :]).asnumpy(), '*g', label='Real')\n",
    "   fg2.legend()\n",
    "\n",
    "   plt.show()\n",
    "\n",
    "learning_rate = .1\n",
    "losses = []\n",
    "plot(losses, X)\n",
    "\n",
    "for e in range(epochs):\n",
    "   cumulative_loss = 0\n",
    "   for i, (data, label) in enumerate(train_data):\n",
    "       data = data.as_in_context(model_ctx)\n",
    "       label = label.as_in_context(model_ctx).reshape((-1, 1))\n",
    "       with autograd.record():\n",
    "           output = net(data)\n",
    "           loss = square_loss(output, label)\n",
    "       loss.backward()\n",
    "       SGD(params, learning_rate)\n",
    "       cumulative_loss += loss.asscalar()\n",
    "\n",
    "   print(\"Epoch %s, batch %s. Mean loss: %s\" % (e, i, cumulative_loss/num_batches))\n",
    "   losses.append(cumulative_loss/num_batches)\n",
    "\n",
    "plot(losses, X)"
   ]
  },
  {
   "cell_type": "code",
   "execution_count": 15,
   "metadata": {},
   "outputs": [
    {
     "data": {
      "text/plain": [
       "\n",
       "[[ 1.99524  ]\n",
       " [-3.3936098]]\n",
       "<NDArray 2x1 @cpu(0)>"
      ]
     },
     "execution_count": 15,
     "metadata": {},
     "output_type": "execute_result"
    }
   ],
   "source": [
    "w"
   ]
  },
  {
   "cell_type": "code",
   "execution_count": 16,
   "metadata": {},
   "outputs": [
    {
     "data": {
      "text/plain": [
       "\n",
       "[4.1967874]\n",
       "<NDArray 1 @cpu(0)>"
      ]
     },
     "execution_count": 16,
     "metadata": {},
     "output_type": "execute_result"
    }
   ],
   "source": [
    "b"
   ]
  },
  {
   "cell_type": "code",
   "execution_count": null,
   "metadata": {},
   "outputs": [],
   "source": []
  }
 ],
 "metadata": {
  "kernelspec": {
   "display_name": "Python 3",
   "language": "python",
   "name": "python3"
  },
  "language_info": {
   "codemirror_mode": {
    "name": "ipython",
    "version": 3
   },
   "file_extension": ".py",
   "mimetype": "text/x-python",
   "name": "python",
   "nbconvert_exporter": "python",
   "pygments_lexer": "ipython3",
   "version": "3.7.3"
  }
 },
 "nbformat": 4,
 "nbformat_minor": 2
}
